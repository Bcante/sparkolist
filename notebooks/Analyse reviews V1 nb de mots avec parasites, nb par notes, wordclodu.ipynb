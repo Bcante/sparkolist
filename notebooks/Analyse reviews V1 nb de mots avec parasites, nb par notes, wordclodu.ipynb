{
 "cells": [
  {
   "cell_type": "code",
   "execution_count": null,
   "metadata": {},
   "outputs": [],
   "source": [
    "#import de tous les \n",
    "from base import *\n",
    "import nltk\n",
    "from nltk.corpus import stopwords #mots vides\n",
    "from nltk.tokenize import word_tokenize #découpage des phrases en tokens\n",
    "from wordcloud import WordCloud\n",
    "import matplotlib.pyplot as plt\n",
    "import pandas as pd #Obligé de passer par là pour pas avoir des dates en score\n",
    "import pyspark.sql.functions as f\n",
    "df={} #DF Par note\n",
    "motsParNote={} #Tous les mots associés à une note\n"
   ]
  },
  {
   "cell_type": "code",
   "execution_count": null,
   "metadata": {},
   "outputs": [],
   "source": [
    "#Préparation des dataframes\n",
    "data = pd.read_csv('../csv/olist_order_reviews_dataset.csv')\n",
    "data['review_comment_message'] = data['review_comment_message'].astype(str)\n",
    "data['review_comment_title'] = data['review_comment_title'].astype(str)\n",
    "reviews = sqlContext.createDataFrame(data) #overwrite du review de base whatever\n"
   ]
  },
  {
   "cell_type": "code",
   "execution_count": null,
   "metadata": {},
   "outputs": [],
   "source": []
  },
  {
   "cell_type": "code",
   "execution_count": null,
   "metadata": {},
   "outputs": [],
   "source": [
    "#Création des stop words\n",
    "stop_words =nltk.corpus.stopwords.words('portuguese')\n",
    "#on rajoute quelques mots qui ne servent à rien comme produto\n",
    "newStopWords = ['produto','nan']\n",
    "stop_words.extend(newStopWords)\n",
    "\"\"\"\n",
    "Pour être mieux il faudrait:\n",
    "faire du stemming\n",
    "supprimer les accents\n",
    "supprimer d'autres mots\n",
    "\"\"\""
   ]
  },
  {
   "cell_type": "code",
   "execution_count": null,
   "metadata": {},
   "outputs": [],
   "source": [
    "#Nombre de reviews pour chaque note\n",
    "toutesReviews = reviews.select(\"review_score\",\"review_comment_message\").dropna().groupBy(\"review_score\").count().show()"
   ]
  },
  {
   "cell_type": "code",
   "execution_count": null,
   "metadata": {},
   "outputs": [],
   "source": [
    "for x in range (1,6):\n",
    "    df[x] = reviews.where(reviews.review_score == x).selectExpr(\"review_comment_message as message\").dropna()\n",
    "    df[x] = df[x].withColumn(\"Longueur\",length(col(\"message\"))) #longueur du message\n",
    "    df[x] = df[x].withColumn(\"mots\",f.explode(f.split(f.col(\"message\"),' '))).groupBy(\"mots\").count().sort('count', ascending=False)\n",
    "    #df[x].agg(avg(col(\"Longueur\"))).show() #moyenne du nb de mots\n",
    "    #On voit que plus les utilisateurs mettent une mauvaise notes, plus longs sont leurs messages (car ils sont énervés)\n",
    "    #Compter le top nb de mots\n",
    "    \n",
    "    #Ts les mots de la note\n",
    "    motTmp=\"\"\n",
    "    for iteration in reviews.where(reviews.review_score == x).select(\"review_comment_message\").collect(): \n",
    "        motTmp += iteration.review_comment_message+\" \"\n",
    "    motsParNote[x]=motTmp\n",
    "    \n",
    "    wordcloud = WordCloud(stopwords=stop_words).generate(motTmp)\n",
    "    plt.imshow(wordcloud, interpolation='bilinear')\n",
    "    plt.axis(\"off\")\n",
    "    plt.show()\n"
   ]
  },
  {
   "cell_type": "code",
   "execution_count": null,
   "metadata": {},
   "outputs": [],
   "source": [
    "#Pour toutes les notes on prend les mots qui reviennent le plus souvent\n",
    "for x in range (1,6):\n",
    "    df[x].show()"
   ]
  }
 ],
 "metadata": {
  "kernelspec": {
   "display_name": "Python 3",
   "language": "python",
   "name": "python3"
  },
  "language_info": {
   "codemirror_mode": {
    "name": "ipython",
    "version": 3
   },
   "file_extension": ".py",
   "mimetype": "text/x-python",
   "name": "python",
   "nbconvert_exporter": "python",
   "pygments_lexer": "ipython3",
   "version": "3.6.7"
  }
 },
 "nbformat": 4,
 "nbformat_minor": 2
}
