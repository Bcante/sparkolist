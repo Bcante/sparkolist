{
 "cells": [
  {
   "cell_type": "code",
   "execution_count": 2,
   "metadata": {},
   "outputs": [],
   "source": [
    "#import de tous les \n",
    "from base import *"
   ]
  },
  {
   "cell_type": "code",
   "execution_count": 6,
   "metadata": {},
   "outputs": [],
   "source": [
    "jointure = payments.join(orders,\"order_id\").dropDuplicates(['order_id']).select(\"payment_type\",\"order_purchase_timestamp\",\"order_approved_at\")\n",
    "jointure = jointure.selectExpr(\"order_purchase_timestamp as date_achat\",\"order_approved_at as date_approb\",\"payment_type as moyen_de_paiement\")\n",
    "jointure = jointure.withColumn(\"Delai(minutes)\", abs((unix_timestamp(jointure['date_achat']) - \n",
    "                       unix_timestamp(jointure['date_approb']))/60)).dropna()\n",
    "jointure=jointure.groupBy(\"moyen_de_paiement\").avg(\"Delai(minutes)\")"
   ]
  },
  {
   "cell_type": "code",
   "execution_count": 8,
   "metadata": {},
   "outputs": [],
   "source": [
    "jointure.repartition(1).write.csv(path=\"../csv/Tableau\", mode=\"append\", header=\"true\")"
   ]
  }
 ],
 "metadata": {
  "kernelspec": {
   "display_name": "Python 3",
   "language": "python",
   "name": "python3"
  },
  "language_info": {
   "codemirror_mode": {
    "name": "ipython",
    "version": 3
   },
   "file_extension": ".py",
   "mimetype": "text/x-python",
   "name": "python",
   "nbconvert_exporter": "python",
   "pygments_lexer": "ipython3",
   "version": "3.6.7"
  }
 },
 "nbformat": 4,
 "nbformat_minor": 2
}
