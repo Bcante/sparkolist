{
 "cells": [
  {
   "cell_type": "code",
   "execution_count": 2,
   "metadata": {},
   "outputs": [
    {
     "data": {
      "text/plain": [
       "'\\ncustomers = sqlContext.read.csv(\"../csv/olist_customers_dataset.csv\", header=\"true\", inferSchema=\"true\")\\ngeo = sqlContext.read.csv(\"../csv/olist_geolocation_dataset.csv\", header=\"true\", inferSchema=\"true\")\\nitems = sqlContext.read.csv(\"../csv/olist_orders_items_dataset.csv\", header=\"true\", inferSchema=\"true\")\\npayments = sqlContext.read.csv(\"../csv/olist_orders_payments_dataset.csv\", header=\"true\", inferSchema=\"true\")\\nreviews = sqlContext.read.csv(\"../csv/olist_orders_reviews_dataset.csv\", header=\"true\", inferSchema=\"true\")\\norders = sqlContext.read.csv(\"../csv/olist_orders_dataset.csv\", header=\"true\", inferSchema=\"true\")\\nproducts = sqlContext.read.csv(\"../csv/olist_products_dataset.csv\", header=\"true\", inferSchema=\"true\")\\nsellers = sqlContext.read.csv(\"../csv/olist_sellers_dataset.csv\", header=\"true\", inferSchema=\"true\") \\ntranslation = sqlContext.read.csv(\"../csv/product_category_name_translation.csv\", header=\"true\", inferSchema=\"true\") \\n'"
      ]
     },
     "execution_count": 2,
     "metadata": {},
     "output_type": "execute_result"
    }
   ],
   "source": [
    "#import de tous les \n",
    "from base import *\n",
    "\"\"\"\n",
    "customers = sqlContext.read.csv(\"../csv/olist_customers_dataset.csv\", header=\"true\", inferSchema=\"true\")\n",
    "geo = sqlContext.read.csv(\"../csv/olist_geolocation_dataset.csv\", header=\"true\", inferSchema=\"true\")\n",
    "items = sqlContext.read.csv(\"../csv/olist_orders_items_dataset.csv\", header=\"true\", inferSchema=\"true\")\n",
    "payments = sqlContext.read.csv(\"../csv/olist_orders_payments_dataset.csv\", header=\"true\", inferSchema=\"true\")\n",
    "reviews = sqlContext.read.csv(\"../csv/olist_orders_reviews_dataset.csv\", header=\"true\", inferSchema=\"true\")\n",
    "orders = sqlContext.read.csv(\"../csv/olist_orders_dataset.csv\", header=\"true\", inferSchema=\"true\")\n",
    "products = sqlContext.read.csv(\"../csv/olist_products_dataset.csv\", header=\"true\", inferSchema=\"true\")\n",
    "sellers = sqlContext.read.csv(\"../csv/olist_sellers_dataset.csv\", header=\"true\", inferSchema=\"true\") \n",
    "translation = sqlContext.read.csv(\"../csv/product_category_name_translation.csv\", header=\"true\", inferSchema=\"true\") \n",
    "\"\"\""
   ]
  },
  {
   "cell_type": "code",
   "execution_count": 4,
   "metadata": {},
   "outputs": [
    {
     "name": "stdout",
     "output_type": "stream",
     "text": [
      "+-----------------+-------------------+\n",
      "|moyen_de_paiement|avg(Delai(minutes))|\n",
      "+-----------------+-------------------+\n",
      "|           boleto|  1987.314027538726|\n",
      "|      credit_card|  274.0945505615487|\n",
      "|          voucher| 469.07835520870276|\n",
      "|       debit_card|  572.8600021815012|\n",
      "+-----------------+-------------------+\n",
      "\n"
     ]
    }
   ],
   "source": [
    "jointure = payments.join(orders,\"order_id\").dropDuplicates(['order_id']).select(\"payment_type\",\"order_purchase_timestamp\",\"order_approved_at\")\n",
    "jointure = jointure.selectExpr(\"order_purchase_timestamp as date_achat\",\"order_approved_at as date_approb\",\"payment_type as moyen_de_paiement\")\n",
    "jointure = jointure.withColumn(\"Delai(minutes)\", abs((unix_timestamp(jointure['date_achat']) - \n",
    "                       unix_timestamp(jointure['date_approb']))/60)).dropna()\n",
    "jointure.groupBy(\"moyen_de_paiement\").avg(\"Delai(minutes)\").show()"
   ]
  }
 ],
 "metadata": {
  "kernelspec": {
   "display_name": "Python 3",
   "language": "python",
   "name": "python3"
  },
  "language_info": {
   "codemirror_mode": {
    "name": "ipython",
    "version": 3
   },
   "file_extension": ".py",
   "mimetype": "text/x-python",
   "name": "python",
   "nbconvert_exporter": "python",
   "pygments_lexer": "ipython3",
   "version": "3.6.7"
  }
 },
 "nbformat": 4,
 "nbformat_minor": 2
}
