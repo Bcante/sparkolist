{
 "cells": [
  {
   "cell_type": "code",
   "execution_count": 2,
   "metadata": {},
   "outputs": [
    {
     "data": {
      "text/plain": [
       "'\\ncustomers = sqlContext.read.csv(\"../csv/olist_customers_dataset.csv\", header=\"true\", inferSchema=\"true\")\\ngeo = sqlContext.read.csv(\"../csv/olist_geolocation_dataset.csv\", header=\"true\", inferSchema=\"true\")\\nitems = sqlContext.read.csv(\"../csv/olist_orders_items_dataset.csv\", header=\"true\", inferSchema=\"true\")\\npayments = sqlContext.read.csv(\"../csv/olist_orders_payments_dataset.csv\", header=\"true\", inferSchema=\"true\")\\nreviews = sqlContext.read.csv(\"../csv/olist_orders_reviews_dataset.csv\", header=\"true\", inferSchema=\"true\")\\norders = sqlContext.read.csv(\"../csv/olist_orders_dataset.csv\", header=\"true\", inferSchema=\"true\")\\nproducts = sqlContext.read.csv(\"../csv/olist_products_dataset.csv\", header=\"true\", inferSchema=\"true\")\\nsellers = sqlContext.read.csv(\"../csv/olist_sellers_dataset.csv\", header=\"true\", inferSchema=\"true\") \\ntranslation = sqlContext.read.csv(\"../csv/product_category_name_translation.csv\", header=\"true\", inferSchema=\"true\") \\n'"
      ]
     },
     "execution_count": 2,
     "metadata": {},
     "output_type": "execute_result"
    }
   ],
   "source": [
    "#import de tous les \n",
    "from base import *\n",
    "\"\"\"\n",
    "customers = sqlContext.read.csv(\"../csv/olist_customers_dataset.csv\", header=\"true\", inferSchema=\"true\")\n",
    "geo = sqlContext.read.csv(\"../csv/olist_geolocation_dataset.csv\", header=\"true\", inferSchema=\"true\")\n",
    "items = sqlContext.read.csv(\"../csv/olist_orders_items_dataset.csv\", header=\"true\", inferSchema=\"true\")\n",
    "payments = sqlContext.read.csv(\"../csv/olist_orders_payments_dataset.csv\", header=\"true\", inferSchema=\"true\")\n",
    "reviews = sqlContext.read.csv(\"../csv/olist_orders_reviews_dataset.csv\", header=\"true\", inferSchema=\"true\")\n",
    "orders = sqlContext.read.csv(\"../csv/olist_orders_dataset.csv\", header=\"true\", inferSchema=\"true\")\n",
    "products = sqlContext.read.csv(\"../csv/olist_products_dataset.csv\", header=\"true\", inferSchema=\"true\")\n",
    "sellers = sqlContext.read.csv(\"../csv/olist_sellers_dataset.csv\", header=\"true\", inferSchema=\"true\") \n",
    "translation = sqlContext.read.csv(\"../csv/product_category_name_translation.csv\", header=\"true\", inferSchema=\"true\") \n",
    "\"\"\""
   ]
  },
  {
   "cell_type": "code",
   "execution_count": 3,
   "metadata": {},
   "outputs": [
    {
     "name": "stdout",
     "output_type": "stream",
     "text": [
      "+-------------------+-------------------+-----------------+------------------+\n",
      "|         date_achat|        date_approb|moyen_de_paiement|    Delai(minutes)|\n",
      "+-------------------+-------------------+-----------------+------------------+\n",
      "|2017-07-26 17:38:47|2017-07-26 17:50:17|      credit_card|              11.5|\n",
      "|2018-02-10 12:52:51|2018-02-10 13:08:12|      credit_card|             15.35|\n",
      "|2018-01-18 10:07:52|2018-01-18 10:17:29|      credit_card| 9.616666666666667|\n",
      "|2017-08-09 16:21:06|2017-08-10 10:25:08|      credit_card|1084.0333333333333|\n",
      "|2017-12-19 09:43:54|2017-12-19 10:53:22|       debit_card| 69.46666666666667|\n",
      "|2017-09-04 22:25:24|2017-09-04 22:43:55|      credit_card|18.516666666666666|\n",
      "|2018-03-23 11:20:04|2018-03-23 18:48:53|           boleto|448.81666666666666|\n",
      "|2018-08-09 16:42:43|2018-08-09 17:35:18|      credit_card|52.583333333333336|\n",
      "|2017-07-25 10:47:16|2017-07-25 11:03:10|      credit_card|              15.9|\n",
      "|2018-05-30 16:33:11|2018-06-01 10:52:26|      credit_card|           2539.25|\n",
      "|2018-08-27 19:21:58|2018-08-27 19:35:20|      credit_card|13.366666666666667|\n",
      "|2018-06-14 14:55:23|2018-06-14 15:20:49|      credit_card|25.433333333333334|\n",
      "|2017-11-20 11:46:39|2017-11-20 12:07:32|      credit_card|20.883333333333333|\n",
      "|2018-03-25 11:28:16|2018-03-25 11:47:34|      credit_card|              19.3|\n",
      "|2018-04-17 08:38:41|2018-04-18 15:45:18|      credit_card|1866.6166666666666|\n",
      "|2017-11-01 01:48:36|2017-11-01 02:06:10|      credit_card|17.566666666666666|\n",
      "|2017-01-29 22:14:49|2017-01-29 22:33:34|      credit_card|             18.75|\n",
      "|2017-03-21 16:04:32|2017-03-21 16:04:32|           boleto|               0.0|\n",
      "|2018-05-08 22:56:28|2018-05-08 23:11:49|      credit_card|             15.35|\n",
      "|2018-08-02 14:21:15|2018-08-03 02:43:57|           boleto|             742.7|\n",
      "+-------------------+-------------------+-----------------+------------------+\n",
      "only showing top 20 rows\n",
      "\n"
     ]
    }
   ],
   "source": [
    "jointure = payments.join(orders,\"order_id\").dropDuplicates(['order_id']).select(\"payment_type\",\"order_purchase_timestamp\",\"order_approved_at\")\n",
    "jointure = jointure.selectExpr(\"order_purchase_timestamp as date_achat\",\"order_approved_at as date_approb\",\"payment_type as moyen_de_paiement\")\n",
    "jointure = jointure.withColumn(\"Delai(minutes)\", abs((unix_timestamp(jointure['date_achat']) - \n",
    "                       unix_timestamp(jointure['date_approb']))/60))\n",
    "jointure.show()"
   ]
  }
 ],
 "metadata": {
  "kernelspec": {
   "display_name": "Python 3",
   "language": "python",
   "name": "python3"
  },
  "language_info": {
   "codemirror_mode": {
    "name": "ipython",
    "version": 3
   },
   "file_extension": ".py",
   "mimetype": "text/x-python",
   "name": "python",
   "nbconvert_exporter": "python",
   "pygments_lexer": "ipython3",
   "version": "3.6.7"
  }
 },
 "nbformat": 4,
 "nbformat_minor": 2
}
