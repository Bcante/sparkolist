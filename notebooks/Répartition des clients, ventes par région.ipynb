{
 "cells": [
  {
   "cell_type": "code",
   "execution_count": 2,
   "metadata": {},
   "outputs": [],
   "source": [
    "from base import *"
   ]
  },
  {
   "cell_type": "markdown",
   "metadata": {},
   "source": [
    "# Répartition des clients"
   ]
  },
  {
   "cell_type": "code",
   "execution_count": 3,
   "metadata": {},
   "outputs": [],
   "source": [
    "clientsParVille = customers.select(\"customer_city\").groupBy(\"customer_city\").count().sort(col(\"count\").desc())"
   ]
  },
  {
   "cell_type": "markdown",
   "metadata": {},
   "source": [
    "# Répartition du CA généré"
   ]
  },
  {
   "cell_type": "code",
   "execution_count": 5,
   "metadata": {},
   "outputs": [],
   "source": [
    "#Pour chaque ligne de paiement on rattache à un pays\n",
    "caParVille = payments.join(orders,\"order_id\").join(customers,\"customer_id\").selectExpr(\"customer_city as Ville\",\"payment_value as CA\")\n",
    "caParVille=caParVille.groupBy(\"Ville\").sum(\"CA\").withColumnRenamed(\"sum(CA)\",\"CA\").sort(col(\"CA\").desc())"
   ]
  },
  {
   "cell_type": "code",
   "execution_count": 6,
   "metadata": {},
   "outputs": [],
   "source": [
    "caParVille.repartition(1).write.csv(path=\"../csv/Tableau\", mode=\"append\", header=\"true\")\n",
    "clientsParVille.repartition(1).write.csv(path=\"../csv/Tableau\", mode=\"append\", header=\"true\")"
   ]
  }
 ],
 "metadata": {
  "kernelspec": {
   "display_name": "Python 3",
   "language": "python",
   "name": "python3"
  },
  "language_info": {
   "codemirror_mode": {
    "name": "ipython",
    "version": 3
   },
   "file_extension": ".py",
   "mimetype": "text/x-python",
   "name": "python",
   "nbconvert_exporter": "python",
   "pygments_lexer": "ipython3",
   "version": "3.6.7"
  }
 },
 "nbformat": 4,
 "nbformat_minor": 2
}
