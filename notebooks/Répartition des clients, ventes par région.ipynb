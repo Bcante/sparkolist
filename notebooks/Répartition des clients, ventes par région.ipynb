{
 "cells": [
  {
   "cell_type": "code",
   "execution_count": 11,
   "metadata": {},
   "outputs": [
    {
     "data": {
      "text/plain": [
       "'\\ncustomers = sqlContext.read.csv(\"../csv/olist_customers_dataset.csv\", header=\"true\", inferSchema=\"true\")\\ngeo = sqlContext.read.csv(\"../csv/olist_geolocation_dataset.csv\", header=\"true\", inferSchema=\"true\")\\nitems = sqlContext.read.csv(\"../csv/olist_orders_items_dataset.csv\", header=\"true\", inferSchema=\"true\")\\npayments = sqlContext.read.csv(\"../csv/olist_orders_payments_dataset.csv\", header=\"true\", inferSchema=\"true\")\\nreviews = sqlContext.read.csv(\"../csv/olist_orders_reviews_dataset.csv\", header=\"true\", inferSchema=\"true\")\\norders = sqlContext.read.csv(\"../csv/olist_orders_dataset.csv\", header=\"true\", inferSchema=\"true\")\\nproducts = sqlContext.read.csv(\"../csv/olist_products_dataset.csv\", header=\"true\", inferSchema=\"true\")\\nsellers = sqlContext.read.csv(\"../csv/olist_sellers_dataset.csv\", header=\"true\", inferSchema=\"true\") \\ntranslation = sqlContext.read.csv(\"../csv/product_category_name_translation.csv\", header=\"true\", inferSchema=\"true\") \\n'"
      ]
     },
     "execution_count": 11,
     "metadata": {},
     "output_type": "execute_result"
    }
   ],
   "source": [
    "from base import *\n",
    "\"\"\"\n",
    "customers = sqlContext.read.csv(\"../csv/olist_customers_dataset.csv\", header=\"true\", inferSchema=\"true\")\n",
    "geo = sqlContext.read.csv(\"../csv/olist_geolocation_dataset.csv\", header=\"true\", inferSchema=\"true\")\n",
    "items = sqlContext.read.csv(\"../csv/olist_orders_items_dataset.csv\", header=\"true\", inferSchema=\"true\")\n",
    "payments = sqlContext.read.csv(\"../csv/olist_orders_payments_dataset.csv\", header=\"true\", inferSchema=\"true\")\n",
    "reviews = sqlContext.read.csv(\"../csv/olist_orders_reviews_dataset.csv\", header=\"true\", inferSchema=\"true\")\n",
    "orders = sqlContext.read.csv(\"../csv/olist_orders_dataset.csv\", header=\"true\", inferSchema=\"true\")\n",
    "products = sqlContext.read.csv(\"../csv/olist_products_dataset.csv\", header=\"true\", inferSchema=\"true\")\n",
    "sellers = sqlContext.read.csv(\"../csv/olist_sellers_dataset.csv\", header=\"true\", inferSchema=\"true\") \n",
    "translation = sqlContext.read.csv(\"../csv/product_category_name_translation.csv\", header=\"true\", inferSchema=\"true\") \n",
    "\"\"\""
   ]
  },
  {
   "cell_type": "markdown",
   "metadata": {},
   "source": [
    "# Répartition des clients"
   ]
  },
  {
   "cell_type": "code",
   "execution_count": 18,
   "metadata": {},
   "outputs": [
    {
     "name": "stdout",
     "output_type": "stream",
     "text": [
      "+--------------+-----+\n",
      "| customer_city|count|\n",
      "+--------------+-----+\n",
      "|     sao paulo|15540|\n",
      "|rio de janeiro| 6882|\n",
      "|belo horizonte| 2773|\n",
      "|      brasilia| 2131|\n",
      "|      curitiba| 1521|\n",
      "+--------------+-----+\n",
      "only showing top 5 rows\n",
      "\n"
     ]
    }
   ],
   "source": [
    "jointure = customers.select(\"customer_city\").groupBy(\"customer_city\").count().sort(col(\"count\").desc())\n",
    "jointure.show(5)"
   ]
  },
  {
   "cell_type": "markdown",
   "metadata": {},
   "source": [
    "# Répartition du CA généré"
   ]
  },
  {
   "cell_type": "code",
   "execution_count": 48,
   "metadata": {},
   "outputs": [
    {
     "name": "stdout",
     "output_type": "stream",
     "text": [
      "+--------------------+------------------+\n",
      "|               Ville|                CA|\n",
      "+--------------------+------------------+\n",
      "|           sao paulo| 2203373.090000006|\n",
      "|      rio de janeiro|1161927.3600000015|\n",
      "|      belo horizonte|         421765.12|\n",
      "|            brasilia|354216.77999999997|\n",
      "|            curitiba|247392.47999999998|\n",
      "|        porto alegre|224731.41999999995|\n",
      "|            salvador|218071.49999999997|\n",
      "|            campinas|216248.42999999996|\n",
      "|           guarulhos|165121.99000000002|\n",
      "|             niteroi|         139996.99|\n",
      "|             goiania|125494.60000000002|\n",
      "|sao bernardo do c...|120434.83999999997|\n",
      "|           fortaleza|119863.46999999997|\n",
      "|              santos|         112343.17|\n",
      "|              recife|110745.22999999998|\n",
      "|       florianopolis|106512.15999999999|\n",
      "|         santo andre|105627.08999999997|\n",
      "|               belem| 96881.76000000001|\n",
      "|              osasco| 94358.72000000002|\n",
      "|             jundiai|          93038.64|\n",
      "+--------------------+------------------+\n",
      "only showing top 20 rows\n",
      "\n"
     ]
    }
   ],
   "source": [
    "#Pour chaque ligne de paiement on rattache à un pays\n",
    "jointures = payments.join(orders,\"order_id\").join(customers,\"customer_id\").selectExpr(\"customer_city as Ville\",\"payment_value as CA\")\n",
    "#jointures = payments.groupBy(\"Ville\").sum(\"payment_value\")\n",
    "jointures.groupBy(\"Ville\").sum(\"CA\").withColumnRenamed(\"sum(CA)\",\"CA\").sort(col(\"CA\").desc()).show()"
   ]
  },
  {
   "cell_type": "code",
   "execution_count": null,
   "metadata": {},
   "outputs": [],
   "source": []
  }
 ],
 "metadata": {
  "kernelspec": {
   "display_name": "Python 3",
   "language": "python",
   "name": "python3"
  },
  "language_info": {
   "codemirror_mode": {
    "name": "ipython",
    "version": 3
   },
   "file_extension": ".py",
   "mimetype": "text/x-python",
   "name": "python",
   "nbconvert_exporter": "python",
   "pygments_lexer": "ipython3",
   "version": "3.6.7"
  }
 },
 "nbformat": 4,
 "nbformat_minor": 2
}
