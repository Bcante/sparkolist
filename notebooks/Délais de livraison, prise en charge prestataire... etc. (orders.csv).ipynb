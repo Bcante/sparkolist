{
 "cells": [
  {
   "cell_type": "code",
   "execution_count": 1,
   "metadata": {},
   "outputs": [],
   "source": [
    "from base import *"
   ]
  },
  {
   "cell_type": "markdown",
   "metadata": {},
   "source": [
    "## Attente entre achat et réception"
   ]
  },
  {
   "cell_type": "code",
   "execution_count": 19,
   "metadata": {
    "scrolled": true
   },
   "outputs": [
    {
     "name": "stdout",
     "output_type": "stream",
     "text": [
      "+------------------+----------------------+------------------------+----------------------+\n",
      "|  Délai global (j)|Réactivité vendeur (h)|Précision estimation (j)|Réactivité livreur (j)|\n",
      "+------------------+----------------------+------------------------+----------------------+\n",
      "| 8.436574074074073|    56.795833333333334|       7.107488425925926|     6.062650462962964|\n",
      "|13.782037037037037|    11.109166666666665|       5.355729166666666|    12.039409722222222|\n",
      "| 9.394212962962962|     4.910277777777778|      17.245497685185185|     9.178113425925927|\n",
      "|          13.20875|                  89.9|      12.980069444444444|     9.450497685185185|\n",
      "|2.8738773148148145|     21.43472222222222|       9.238171296296297|     1.937824074074074|\n",
      "| 16.54224537037037|               40.7975|      5.5431134259259265|    14.833229166666667|\n",
      "| 9.989826388888888|    140.75972222222222|       11.46121527777778|     4.116724537037037|\n",
      "| 9.818761574074074|    35.428888888888885|      31.410995370370372|    6.9942013888888885|\n",
      "|18.221851851851852|     295.6644444444444|       6.281597222222222|     5.895208333333334|\n",
      "|        12.6509375|    39.839444444444446|        8.52880787037037|    10.984618055555556|\n",
      "| 5.754594907407408|    22.555833333333332|      19.413333333333334|     4.806469907407407|\n",
      "|12.083020833333334|    58.263333333333335|      28.495925925925928|     7.942268518518518|\n",
      "| 4.922395833333334|     19.34611111111111|       8.338599537037037|    4.1086226851851855|\n",
      "| 11.39025462962963|    29.975833333333334|        8.01636574074074|    10.102152777777778|\n",
      "|13.855092592592591|    32.617222222222225|       12.35101851851852|    10.028148148148148|\n",
      "|17.276574074074073|    23.168055555555554|      16.931261574074075|    16.305439814814815|\n",
      "|12.954918981481482|     42.71194444444445|      20.057916666666667|    11.169108796296298|\n",
      "| 6.766886574074075|     69.30111111111111|      13.230555555555556|    3.8719212962962963|\n",
      "|13.310810185185185|     5.644166666666666|      14.068055555555555|    13.066053240740741|\n",
      "|21.327962962962964|    421.76500000000004|      11.933171296296296|     3.190081018518518|\n",
      "+------------------+----------------------+------------------------+----------------------+\n",
      "only showing top 20 rows\n",
      "\n"
     ]
    }
   ],
   "source": [
    "dates = orders.selectExpr(\"order_purchase_timestamp as Achat\", \"order_approved_at as PaiementConfirme\",\"order_delivered_carrier_date as LivraisonPoste\", \"order_estimated_delivery_date as LivraisonEstime\", \"order_delivered_customer_date as Reception\").dropna()\n",
    "\n",
    "\"\"\"\n",
    "Reception - Achat = Délai global\n",
    "LivraisonPoste - PaiementConfirme = Notre reactivité\n",
    "LivraisonEstime - Reception = Précision estimation\n",
    "LivraisonPoste - Reception = Compétence livreur\n",
    "\"\"\"\n",
    "\n",
    "dates=dates.withColumn(\"Délai global (j)\", abs((unix_timestamp(dates['Reception']) - \n",
    "                       unix_timestamp(dates['Achat']))/60/60/24))\n",
    "dates=dates.withColumn(\"Réactivité vendeur (h)\", abs((unix_timestamp(dates['LivraisonPoste']) - \n",
    "                       unix_timestamp(dates['PaiementConfirme']))/60/60))\n",
    "dates=dates.withColumn(\"Précision estimation (j)\", abs((unix_timestamp(dates['LivraisonEstime']) - \n",
    "                       unix_timestamp(dates['Reception']))/60/60/24))\n",
    "dates=dates.withColumn(\"Réactivité livreur (j)\", abs((unix_timestamp(dates['Reception']) - \n",
    "                       unix_timestamp(dates['LivraisonPoste']))/60/60/24))\n",
    "dates=dates.select(\"Délai global (j)\",\"Réactivité vendeur (h)\",\"Précision estimation (j)\",\"Réactivité livreur (j)\")\n",
    "dates.show()"
   ]
  },
  {
   "cell_type": "markdown",
   "metadata": {},
   "source": [
    "## Utilisation des délais par rapport à la satisfaction"
   ]
  },
  {
   "cell_type": "code",
   "execution_count": null,
   "metadata": {},
   "outputs": [],
   "source": []
  }
 ],
 "metadata": {
  "kernelspec": {
   "display_name": "Python 3",
   "language": "python",
   "name": "python3"
  },
  "language_info": {
   "codemirror_mode": {
    "name": "ipython",
    "version": 3
   },
   "file_extension": ".py",
   "mimetype": "text/x-python",
   "name": "python",
   "nbconvert_exporter": "python",
   "pygments_lexer": "ipython3",
   "version": "3.6.7"
  }
 },
 "nbformat": 4,
 "nbformat_minor": 2
}
