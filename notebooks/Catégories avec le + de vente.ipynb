{
 "cells": [
  {
   "cell_type": "code",
   "execution_count": 21,
   "metadata": {},
   "outputs": [
    {
     "name": "stdout",
     "output_type": "stream",
     "text": [
      "shoe\n"
     ]
    }
   ],
   "source": [
    "#import de tous les \n",
    "from base import *\n",
    "\"\"\"\n",
    "customers = sqlContext.read.csv(\"../csv/olist_customers_dataset.csv\", header=\"true\", inferSchema=\"true\")\n",
    "geo = sqlContext.read.csv(\"../csv/olist_geolocation_dataset.csv\", header=\"true\", inferSchema=\"true\")\n",
    "items = sqlContext.read.csv(\"../csv/olist_orders_items_dataset.csv\", header=\"true\", inferSchema=\"true\")\n",
    "payments = sqlContext.read.csv(\"../csv/olist_orders_payments_dataset.csv\", header=\"true\", inferSchema=\"true\")\n",
    "reviews = sqlContext.read.csv(\"../csv/olist_orders_reviews_dataset.csv\", header=\"true\", inferSchema=\"true\")\n",
    "orders = sqlContext.read.csv(\"../csv/olist_orders_dataset.csv\", header=\"true\", inferSchema=\"true\")\n",
    "products = sqlContext.read.csv(\"../csv/olist_products_dataset.csv\", header=\"true\", inferSchema=\"true\")\n",
    "sellers = sqlContext.read.csv(\"../csv/olist_sellers_dataset.csv\", header=\"true\", inferSchema=\"true\") \n",
    "translation = sqlContext.read.csv(\"../csv/product_category_name_translation.csv\", header=\"true\", inferSchema=\"true\") \n",
    "\"\"\""
   ]
  },
  {
   "cell_type": "code",
   "execution_count": 40,
   "metadata": {},
   "outputs": [
    {
     "name": "stdout",
     "output_type": "stream",
     "text": [
      "+--------------------+---------+\n",
      "|          Categories|Nb_ventes|\n",
      "+--------------------+---------+\n",
      "|      bed_bath_table|    11115|\n",
      "|       health_beauty|     9670|\n",
      "|      sports_leisure|     8641|\n",
      "|     furniture_decor|     8334|\n",
      "|computers_accesso...|     7827|\n",
      "+--------------------+---------+\n",
      "only showing top 5 rows\n",
      "\n"
     ]
    }
   ],
   "source": [
    "#Récupération des catégories avec le plus de ventes\n",
    "result_df = items.join(products, \"product_id\").groupBy(\"product_category_name\").count().sort(col(\"count\").desc())\n",
    "result_df = result_df.join(translation, \"product_category_name\").select(\"product_category_name_english\",\"count\")\n",
    "result_df.selectExpr(\"product_category_name_english as Categories\", \"count as Nb_ventes\").show(5)\n",
    "#Rajouter un rank\n",
    "\n",
    "#count_df = result_df.groupBy(\"payment_type\").count().sort(col(\"count\").desc())"
   ]
  },
  {
   "cell_type": "code",
   "execution_count": 6,
   "metadata": {},
   "outputs": [],
   "source": []
  }
 ],
 "metadata": {
  "kernelspec": {
   "display_name": "Python 3",
   "language": "python",
   "name": "python3"
  },
  "language_info": {
   "codemirror_mode": {
    "name": "ipython",
    "version": 3
   },
   "file_extension": ".py",
   "mimetype": "text/x-python",
   "name": "python",
   "nbconvert_exporter": "python",
   "pygments_lexer": "ipython3",
   "version": "3.6.7"
  }
 },
 "nbformat": 4,
 "nbformat_minor": 2
}
